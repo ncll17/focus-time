{
 "cells": [
  {
   "cell_type": "code",
   "execution_count": 1,
   "metadata": {},
   "outputs": [
    {
     "name": "stdout",
     "output_type": "stream",
     "text": [
      "GPU is available: NVIDIA GeForce RTX 2070\n",
      "Running a matrix multiplication on the GPU...\n",
      "Matrix multiplication successful!\n",
      "Result size: torch.Size([1000, 1000])\n",
      "Device of the result: cuda:0\n"
     ]
    }
   ],
   "source": [
    "import torch\n",
    "\n",
    "# Check if CUDA (GPU support) is available\n",
    "if torch.cuda.is_available():\n",
    "    device = torch.device(\"cuda\")\n",
    "    print(f\"GPU is available: {torch.cuda.get_device_name(0)}\")\n",
    "else:\n",
    "    device = torch.device(\"cpu\")\n",
    "    print(\"GPU not available, using CPU.\")\n",
    "\n",
    "# Simple computation: matrix multiplication\n",
    "try:\n",
    "    # Create two random tensors\n",
    "    a = torch.randn(1000, 1000, device=device)\n",
    "    b = torch.randn(1000, 1000, device=device)\n",
    "\n",
    "    # Perform matrix multiplication\n",
    "    print(\"Running a matrix multiplication on the GPU...\")\n",
    "    result = torch.mm(a, b)\n",
    "    print(\"Matrix multiplication successful!\")\n",
    "    print(f\"Result size: {result.size()}\")\n",
    "    print(f\"Device of the result: {result.device}\")\n",
    "\n",
    "except Exception as e:\n",
    "    print(f\"An error occurred during computation: {e}\")"
   ]
  },
  {
   "cell_type": "code",
   "execution_count": 3,
   "metadata": {},
   "outputs": [
    {
     "name": "stdout",
     "output_type": "stream",
     "text": [
      "Using device: cuda\n",
      "Epoch 1/5, Loss: 0.8278\n",
      "Epoch 2/5, Loss: 0.8264\n",
      "Epoch 3/5, Loss: 0.8250\n",
      "Epoch 4/5, Loss: 0.8237\n",
      "Epoch 5/5, Loss: 0.8224\n",
      "Test input prediction: 1\n"
     ]
    }
   ],
   "source": [
    "import torch\n",
    "import torch.nn as nn\n",
    "import torch.optim as optim\n",
    "\n",
    "# Check if GPU is available\n",
    "device = torch.device(\"cuda\" if torch.cuda.is_available() else \"cpu\")\n",
    "print(f\"Using device: {device}\")\n",
    "\n",
    "# Dummy dataset\n",
    "X = torch.randn(1000, 10).to(device)  # 1000 samples, 10 features\n",
    "y = torch.randint(0, 2, (1000,)).to(device)  # Binary classification (0 or 1)\n",
    "\n",
    "# Simple model\n",
    "class SimpleModel(nn.Module):\n",
    "    def __init__(self, input_size, output_size):\n",
    "        super(SimpleModel, self).__init__()\n",
    "        self.fc = nn.Linear(input_size, output_size)\n",
    "\n",
    "    def forward(self, x):\n",
    "        return self.fc(x)\n",
    "\n",
    "model = SimpleModel(10, 2).to(device)\n",
    "\n",
    "# Loss function and optimizer\n",
    "criterion = nn.CrossEntropyLoss()\n",
    "optimizer = optim.Adam(model.parameters(), lr=0.001)\n",
    "\n",
    "# Training loop\n",
    "epochs = 5\n",
    "for epoch in range(epochs):\n",
    "    # Forward pass\n",
    "    outputs = model(X)\n",
    "    loss = criterion(outputs, y)\n",
    "\n",
    "    # Backward pass\n",
    "    optimizer.zero_grad()\n",
    "    loss.backward()\n",
    "\n",
    "    # Update weights\n",
    "    optimizer.step()\n",
    "\n",
    "    print(f\"Epoch {epoch+1}/{epochs}, Loss: {loss.item():.4f}\")\n",
    "\n",
    "# Test on a single prediction\n",
    "test_input = torch.randn(1, 10).to(device)\n",
    "test_output = model(test_input)\n",
    "predicted_class = torch.argmax(test_output, dim=1).item()\n",
    "print(f\"Test input prediction: {predicted_class}\")\n"
   ]
  },
  {
   "cell_type": "code",
   "execution_count": null,
   "metadata": {},
   "outputs": [],
   "source": []
  }
 ],
 "metadata": {
  "kernelspec": {
   "display_name": ".venv",
   "language": "python",
   "name": "python3"
  },
  "language_info": {
   "codemirror_mode": {
    "name": "ipython",
    "version": 3
   },
   "file_extension": ".py",
   "mimetype": "text/x-python",
   "name": "python",
   "nbconvert_exporter": "python",
   "pygments_lexer": "ipython3",
   "version": "3.12.7"
  }
 },
 "nbformat": 4,
 "nbformat_minor": 2
}
